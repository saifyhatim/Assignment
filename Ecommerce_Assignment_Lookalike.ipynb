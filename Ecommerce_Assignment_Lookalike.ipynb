{
 "cells": [
  {
   "cell_type": "code",
   "execution_count": 89,
   "id": "6d081a4b-809d-4e32-bc72-a08a6c164dfc",
   "metadata": {},
   "outputs": [],
   "source": [
    "import pandas as pd\n",
    "import numpy as np\n",
    "from sklearn.metrics.pairwise import cosine_similarity\n",
    "from sklearn.preprocessing import StandardScaler"
   ]
  },
  {
   "cell_type": "code",
   "execution_count": 91,
   "id": "de462609-a8be-49e9-8785-fa4f670c8c31",
   "metadata": {},
   "outputs": [],
   "source": [
    "customers = pd.read_csv(r\"C:\\Users\\admin\\Downloads\\Customers.csv\")\n",
    "products = pd.read_csv(r\"C:\\Users\\admin\\Downloads\\Products.csv\")\n",
    "transactions = pd.read_csv(r\"C:\\Users\\admin\\Downloads\\Transactions.csv\")"
   ]
  },
  {
   "cell_type": "code",
   "execution_count": 93,
   "id": "d9446d80-e95c-4a35-ba72-90049b848674",
   "metadata": {},
   "outputs": [],
   "source": [
    "# Merging transactions with customer\n",
    "data = transactions.merge(customers, on=\"CustomerID\", how=\"left\")\n",
    "data = data.merge(products, on=\"ProductID\", how=\"left\")"
   ]
  },
  {
   "cell_type": "code",
   "execution_count": 95,
   "id": "1996b3e5-701c-402b-98af-d8227a49a7e1",
   "metadata": {},
   "outputs": [],
   "source": [
    "# Aggregate transaction data per customer\n",
    "customer_features = data.groupby(\"CustomerID\").agg({\n",
    "    \"TotalValue\": \"sum\",  # Total amount spent\n",
    "    \"Quantity\": \"sum\",    # Total quantity purchased\n",
    "    \"ProductID\": \"count\"  # Total transactions\n",
    "}).rename(columns={\"ProductID\": \"TransactionCount\"})"
   ]
  },
  {
   "cell_type": "code",
   "execution_count": 97,
   "id": "ddf8c590-38f5-475a-98e0-45b7084b859d",
   "metadata": {},
   "outputs": [
    {
     "data": {
      "text/html": [
       "<div>\n",
       "<style scoped>\n",
       "    .dataframe tbody tr th:only-of-type {\n",
       "        vertical-align: middle;\n",
       "    }\n",
       "\n",
       "    .dataframe tbody tr th {\n",
       "        vertical-align: top;\n",
       "    }\n",
       "\n",
       "    .dataframe thead th {\n",
       "        text-align: right;\n",
       "    }\n",
       "</style>\n",
       "<table border=\"1\" class=\"dataframe\">\n",
       "  <thead>\n",
       "    <tr style=\"text-align: right;\">\n",
       "      <th></th>\n",
       "      <th>TotalValue</th>\n",
       "      <th>Quantity</th>\n",
       "      <th>TransactionCount</th>\n",
       "    </tr>\n",
       "    <tr>\n",
       "      <th>CustomerID</th>\n",
       "      <th></th>\n",
       "      <th></th>\n",
       "      <th></th>\n",
       "    </tr>\n",
       "  </thead>\n",
       "  <tbody>\n",
       "    <tr>\n",
       "      <th>C0001</th>\n",
       "      <td>3354.52</td>\n",
       "      <td>12</td>\n",
       "      <td>5</td>\n",
       "    </tr>\n",
       "    <tr>\n",
       "      <th>C0002</th>\n",
       "      <td>1862.74</td>\n",
       "      <td>10</td>\n",
       "      <td>4</td>\n",
       "    </tr>\n",
       "    <tr>\n",
       "      <th>C0003</th>\n",
       "      <td>2725.38</td>\n",
       "      <td>14</td>\n",
       "      <td>4</td>\n",
       "    </tr>\n",
       "    <tr>\n",
       "      <th>C0004</th>\n",
       "      <td>5354.88</td>\n",
       "      <td>23</td>\n",
       "      <td>8</td>\n",
       "    </tr>\n",
       "    <tr>\n",
       "      <th>C0005</th>\n",
       "      <td>2034.24</td>\n",
       "      <td>7</td>\n",
       "      <td>3</td>\n",
       "    </tr>\n",
       "    <tr>\n",
       "      <th>...</th>\n",
       "      <td>...</td>\n",
       "      <td>...</td>\n",
       "      <td>...</td>\n",
       "    </tr>\n",
       "    <tr>\n",
       "      <th>C0196</th>\n",
       "      <td>4982.88</td>\n",
       "      <td>12</td>\n",
       "      <td>4</td>\n",
       "    </tr>\n",
       "    <tr>\n",
       "      <th>C0197</th>\n",
       "      <td>1928.65</td>\n",
       "      <td>9</td>\n",
       "      <td>3</td>\n",
       "    </tr>\n",
       "    <tr>\n",
       "      <th>C0198</th>\n",
       "      <td>931.83</td>\n",
       "      <td>3</td>\n",
       "      <td>2</td>\n",
       "    </tr>\n",
       "    <tr>\n",
       "      <th>C0199</th>\n",
       "      <td>1979.28</td>\n",
       "      <td>9</td>\n",
       "      <td>4</td>\n",
       "    </tr>\n",
       "    <tr>\n",
       "      <th>C0200</th>\n",
       "      <td>4758.60</td>\n",
       "      <td>16</td>\n",
       "      <td>5</td>\n",
       "    </tr>\n",
       "  </tbody>\n",
       "</table>\n",
       "<p>199 rows × 3 columns</p>\n",
       "</div>"
      ],
      "text/plain": [
       "            TotalValue  Quantity  TransactionCount\n",
       "CustomerID                                        \n",
       "C0001          3354.52        12                 5\n",
       "C0002          1862.74        10                 4\n",
       "C0003          2725.38        14                 4\n",
       "C0004          5354.88        23                 8\n",
       "C0005          2034.24         7                 3\n",
       "...                ...       ...               ...\n",
       "C0196          4982.88        12                 4\n",
       "C0197          1928.65         9                 3\n",
       "C0198           931.83         3                 2\n",
       "C0199          1979.28         9                 4\n",
       "C0200          4758.60        16                 5\n",
       "\n",
       "[199 rows x 3 columns]"
      ]
     },
     "execution_count": 97,
     "metadata": {},
     "output_type": "execute_result"
    }
   ],
   "source": [
    "customer_features"
   ]
  },
  {
   "cell_type": "code",
   "execution_count": 99,
   "id": "2ad5ecad-877a-4bd8-85d0-87c8388afacc",
   "metadata": {},
   "outputs": [
    {
     "name": "stdout",
     "output_type": "stream",
     "text": [
      "            TotalValue  Quantity  TransactionCount         Region\n",
      "CustomerID                                                       \n",
      "C0001          3354.52        12                 5  South America\n",
      "C0002          1862.74        10                 4           Asia\n",
      "C0003          2725.38        14                 4  South America\n",
      "C0004          5354.88        23                 8  South America\n",
      "C0005          2034.24         7                 3           Asia\n"
     ]
    }
   ],
   "source": [
    "# Add customer profile information, including Region\n",
    "customer_features = customer_features.merge(\n",
    "    customers[[\"CustomerID\", \"Region\"]].set_index(\"CustomerID\"),\n",
    "    left_index=True,\n",
    "    right_index=True,\n",
    "    how=\"left\"\n",
    ")\n",
    "# Check if Region is successfully added\n",
    "print(customer_features.head())"
   ]
  },
  {
   "cell_type": "code",
   "execution_count": 103,
   "id": "3ab8b027-2e3e-4a4c-b370-dcb9ff2918df",
   "metadata": {},
   "outputs": [],
   "source": [
    "from sklearn.preprocessing import LabelEncoder"
   ]
  },
  {
   "cell_type": "code",
   "execution_count": 105,
   "id": "51d9ca54-4612-47fd-a161-352cb4ef8b61",
   "metadata": {},
   "outputs": [
    {
     "name": "stdout",
     "output_type": "stream",
     "text": [
      "            Region\n",
      "CustomerID        \n",
      "C0001            3\n",
      "C0002            0\n",
      "C0003            3\n",
      "C0004            3\n",
      "C0005            0\n"
     ]
    }
   ],
   "source": [
    "label_encoder = LabelEncoder()\n",
    "\n",
    "# label encoding to Region column\n",
    "customer_features[\"Region\"] = label_encoder.fit_transform(customer_features[\"Region\"])\n",
    "\n",
    "# View the encoded values\n",
    "print(customer_features[[\"Region\"]].head())"
   ]
  },
  {
   "cell_type": "code",
   "execution_count": 109,
   "id": "5fa0a41f-1569-4f9e-8711-411f49acb5a4",
   "metadata": {
    "scrolled": true
   },
   "outputs": [],
   "source": [
    "columns_to_drop = [\"CustomerName\", \"SignupDate\"]\n",
    "customer_features = customer_features.drop(\n",
    "    columns=[col for col in columns_to_drop if col in customer_features.columns],\n",
    "    errors=\"ignore\"\n",
    ")"
   ]
  },
  {
   "cell_type": "code",
   "execution_count": 111,
   "id": "dfa514aa-7b04-47c1-8498-f59c29452daa",
   "metadata": {},
   "outputs": [],
   "source": [
    "scaler = StandardScaler()\n",
    "scaled_features = scaler.fit_transform(customer_features)"
   ]
  },
  {
   "cell_type": "code",
   "execution_count": 113,
   "id": "abb2749e-2e21-4144-b799-cb0d85509ecc",
   "metadata": {},
   "outputs": [],
   "source": [
    "similarity_matrix = cosine_similarity(scaled_features)"
   ]
  },
  {
   "cell_type": "code",
   "execution_count": 115,
   "id": "9cab6db3-4c5a-4d89-898e-28d885847afa",
   "metadata": {},
   "outputs": [],
   "source": [
    "# Map customer IDs to indices\n",
    "customer_ids = customer_features.index.tolist()\n",
    "customer_idx_map = {idx: cust_id for idx, cust_id in enumerate(customer_ids)}"
   ]
  },
  {
   "cell_type": "code",
   "execution_count": 117,
   "id": "30d6a90b-836f-4358-9eba-72400bf730f3",
   "metadata": {},
   "outputs": [],
   "source": [
    "# Create the lookalike recommendations\n",
    "lookalike_results = {}\n",
    "for idx, cust_id in enumerate(customer_ids[:20]):  # For first 20 customers (C0001 - C0020)\n",
    "    # Get similarity scores for the current customer\n",
    "    similarity_scores = list(enumerate(similarity_matrix[idx]))\n",
    "    # Sort by similarity score in descending order, exclude the customer itself\n",
    "    similar_customers = sorted(similarity_scores, key=lambda x: x[1], reverse=True)[1:4]\n",
    "    # Store the top 3 similar customers with scores\n",
    "    lookalike_results[cust_id] = [(customer_idx_map[i], round(score, 4)) for i, score in similar_customers]"
   ]
  },
  {
   "cell_type": "code",
   "execution_count": 119,
   "id": "66b6cffe-501e-466c-9dee-04116b9fa0b8",
   "metadata": {},
   "outputs": [],
   "source": [
    "#Lookalike.csv\n",
    "lookalike_df = pd.DataFrame([\n",
    "    {\"CustomerID\": cust_id, \"Lookalikes\": lookalikes} \n",
    "    for cust_id, lookalikes in lookalike_results.items()\n",
    "])\n",
    "lookalike_df.to_csv(\"Lookalike.csv\", index=False)"
   ]
  },
  {
   "cell_type": "code",
   "execution_count": 121,
   "id": "66699d15-2660-40d0-8444-bad385356337",
   "metadata": {},
   "outputs": [
    {
     "data": {
      "text/html": [
       "<div>\n",
       "<style scoped>\n",
       "    .dataframe tbody tr th:only-of-type {\n",
       "        vertical-align: middle;\n",
       "    }\n",
       "\n",
       "    .dataframe tbody tr th {\n",
       "        vertical-align: top;\n",
       "    }\n",
       "\n",
       "    .dataframe thead th {\n",
       "        text-align: right;\n",
       "    }\n",
       "</style>\n",
       "<table border=\"1\" class=\"dataframe\">\n",
       "  <thead>\n",
       "    <tr style=\"text-align: right;\">\n",
       "      <th></th>\n",
       "      <th>CustomerID</th>\n",
       "      <th>Lookalikes</th>\n",
       "    </tr>\n",
       "  </thead>\n",
       "  <tbody>\n",
       "    <tr>\n",
       "      <th>0</th>\n",
       "      <td>C0001</td>\n",
       "      <td>[(C0107, 0.993), (C0137, 0.9918), (C0191, 0.98...</td>\n",
       "    </tr>\n",
       "    <tr>\n",
       "      <th>1</th>\n",
       "      <td>C0002</td>\n",
       "      <td>[(C0142, 0.9911), (C0177, 0.9764), (C0088, 0.9...</td>\n",
       "    </tr>\n",
       "    <tr>\n",
       "      <th>2</th>\n",
       "      <td>C0003</td>\n",
       "      <td>[(C0190, 0.9403), (C0133, 0.9366), (C0174, 0.9...</td>\n",
       "    </tr>\n",
       "    <tr>\n",
       "      <th>3</th>\n",
       "      <td>C0004</td>\n",
       "      <td>[(C0113, 0.9945), (C0165, 0.9822), (C0102, 0.9...</td>\n",
       "    </tr>\n",
       "    <tr>\n",
       "      <th>4</th>\n",
       "      <td>C0005</td>\n",
       "      <td>[(C0186, 0.9979), (C0159, 0.9975), (C0007, 0.9...</td>\n",
       "    </tr>\n",
       "  </tbody>\n",
       "</table>\n",
       "</div>"
      ],
      "text/plain": [
       "  CustomerID                                         Lookalikes\n",
       "0      C0001  [(C0107, 0.993), (C0137, 0.9918), (C0191, 0.98...\n",
       "1      C0002  [(C0142, 0.9911), (C0177, 0.9764), (C0088, 0.9...\n",
       "2      C0003  [(C0190, 0.9403), (C0133, 0.9366), (C0174, 0.9...\n",
       "3      C0004  [(C0113, 0.9945), (C0165, 0.9822), (C0102, 0.9...\n",
       "4      C0005  [(C0186, 0.9979), (C0159, 0.9975), (C0007, 0.9..."
      ]
     },
     "execution_count": 121,
     "metadata": {},
     "output_type": "execute_result"
    }
   ],
   "source": [
    "lookalike_df.head()"
   ]
  },
  {
   "cell_type": "code",
   "execution_count": null,
   "id": "655c7144-d9ed-4a01-9a5b-d2dafdc4f5f3",
   "metadata": {},
   "outputs": [],
   "source": []
  }
 ],
 "metadata": {
  "kernelspec": {
   "display_name": "Python 3 (ipykernel)",
   "language": "python",
   "name": "python3"
  },
  "language_info": {
   "codemirror_mode": {
    "name": "ipython",
    "version": 3
   },
   "file_extension": ".py",
   "mimetype": "text/x-python",
   "name": "python",
   "nbconvert_exporter": "python",
   "pygments_lexer": "ipython3",
   "version": "3.11.7"
  }
 },
 "nbformat": 4,
 "nbformat_minor": 5
}
